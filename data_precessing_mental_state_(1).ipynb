{
  "cells": [
    {
      "cell_type": "code",
      "execution_count": null,
      "id": "25be4772",
      "metadata": {
        "id": "25be4772"
      },
      "outputs": [],
      "source": [
        "import pandas as pd"
      ]
    },
    {
      "cell_type": "code",
      "execution_count": null,
      "id": "69e2a1b7",
      "metadata": {
        "id": "69e2a1b7"
      },
      "outputs": [],
      "source": [
        "df=pd.read_csv('merged_mental_health_dataset.csv')"
      ]
    },
    {
      "cell_type": "code",
      "execution_count": null,
      "id": "b15fb697",
      "metadata": {
        "id": "b15fb697",
        "outputId": "c8746ef4-cca4-42de-a49c-53ccd554a139"
      },
      "outputs": [
        {
          "data": {
            "text/html": [
              "<div>\n",
              "<style scoped>\n",
              "    .dataframe tbody tr th:only-of-type {\n",
              "        vertical-align: middle;\n",
              "    }\n",
              "\n",
              "    .dataframe tbody tr th {\n",
              "        vertical-align: top;\n",
              "    }\n",
              "\n",
              "    .dataframe thead th {\n",
              "        text-align: right;\n",
              "    }\n",
              "</style>\n",
              "<table border=\"1\" class=\"dataframe\">\n",
              "  <thead>\n",
              "    <tr style=\"text-align: right;\">\n",
              "      <th></th>\n",
              "      <th>Gender</th>\n",
              "      <th>Age group</th>\n",
              "      <th>Marital status</th>\n",
              "      <th>Occupation</th>\n",
              "      <th>State</th>\n",
              "      <th>DISTRICT</th>\n",
              "      <th>Meditation and Exercises</th>\n",
              "      <th>Sleeping time</th>\n",
              "      <th>Family Relations</th>\n",
              "      <th>Relationship status</th>\n",
              "      <th>Concentration</th>\n",
              "      <th>ever felt depressed</th>\n",
              "      <th>taking any treatment?</th>\n",
              "      <th>Phys_health_interview</th>\n",
              "      <th>Suicidal attempt?</th>\n",
              "      <th>Panic attacks?</th>\n",
              "      <th>Hopelessness</th>\n",
              "      <th>Depression State</th>\n",
              "      <th>Social_Weakness</th>\n",
              "    </tr>\n",
              "  </thead>\n",
              "  <tbody>\n",
              "    <tr>\n",
              "      <th>0</th>\n",
              "      <td>Female</td>\n",
              "      <td>25 to 27</td>\n",
              "      <td>No</td>\n",
              "      <td>Corporate</td>\n",
              "      <td>A &amp; N Islands</td>\n",
              "      <td>BAGALKOTE</td>\n",
              "      <td>I run or walk 1 mile/km a week, I go to the Gy...</td>\n",
              "      <td>1.0</td>\n",
              "      <td>9</td>\n",
              "      <td>Single</td>\n",
              "      <td>1.0</td>\n",
              "      <td>Yes</td>\n",
              "      <td>No</td>\n",
              "      <td>Maybe</td>\n",
              "      <td>5.0</td>\n",
              "      <td>5.0</td>\n",
              "      <td>5.0</td>\n",
              "      <td>Mild</td>\n",
              "      <td>Yes</td>\n",
              "    </tr>\n",
              "    <tr>\n",
              "      <th>1</th>\n",
              "      <td>Male</td>\n",
              "      <td>22 to 24</td>\n",
              "      <td>No</td>\n",
              "      <td>Others</td>\n",
              "      <td>A &amp; N Islands</td>\n",
              "      <td>BANGALORE RURAL</td>\n",
              "      <td>I run or walk 1 mile/km a week, I run or walk ...</td>\n",
              "      <td>2.0</td>\n",
              "      <td>3</td>\n",
              "      <td>Single</td>\n",
              "      <td>5.0</td>\n",
              "      <td>No</td>\n",
              "      <td>No</td>\n",
              "      <td>No</td>\n",
              "      <td>1.0</td>\n",
              "      <td>1.0</td>\n",
              "      <td>1.0</td>\n",
              "      <td>Moderate</td>\n",
              "      <td>Yes</td>\n",
              "    </tr>\n",
              "    <tr>\n",
              "      <th>2</th>\n",
              "      <td>Male</td>\n",
              "      <td>19 to 21</td>\n",
              "      <td>No</td>\n",
              "      <td>Student</td>\n",
              "      <td>A &amp; N Islands</td>\n",
              "      <td>BANGALORE URBAN</td>\n",
              "      <td>I go to the Gym/exercise everyday, I do all th...</td>\n",
              "      <td>5.0</td>\n",
              "      <td>10</td>\n",
              "      <td>Married, In a relationship, Single</td>\n",
              "      <td>2.0</td>\n",
              "      <td>Yes</td>\n",
              "      <td>No</td>\n",
              "      <td>Yes</td>\n",
              "      <td>2.0</td>\n",
              "      <td>2.0</td>\n",
              "      <td>2.0</td>\n",
              "      <td>Severe</td>\n",
              "      <td>No</td>\n",
              "    </tr>\n",
              "    <tr>\n",
              "      <th>3</th>\n",
              "      <td>Male</td>\n",
              "      <td>25 to 27</td>\n",
              "      <td>Yes</td>\n",
              "      <td>Others</td>\n",
              "      <td>A &amp; N Islands</td>\n",
              "      <td>BELGAUM</td>\n",
              "      <td>I go to the Gym/exercise everyday, I meditate ...</td>\n",
              "      <td>1.0</td>\n",
              "      <td>5</td>\n",
              "      <td>Single</td>\n",
              "      <td>1.0</td>\n",
              "      <td>Yes</td>\n",
              "      <td>No</td>\n",
              "      <td>Maybe</td>\n",
              "      <td>5.0</td>\n",
              "      <td>5.0</td>\n",
              "      <td>5.0</td>\n",
              "      <td>No depression</td>\n",
              "      <td>Yes</td>\n",
              "    </tr>\n",
              "    <tr>\n",
              "      <th>4</th>\n",
              "      <td>Male</td>\n",
              "      <td>25 to 27</td>\n",
              "      <td>No</td>\n",
              "      <td>Student</td>\n",
              "      <td>A &amp; N Islands</td>\n",
              "      <td>BELLARY</td>\n",
              "      <td>I run or walk 1 mile/km a week, I go to the Gy...</td>\n",
              "      <td>2.0</td>\n",
              "      <td>7</td>\n",
              "      <td>Single</td>\n",
              "      <td>5.0</td>\n",
              "      <td>No</td>\n",
              "      <td>No</td>\n",
              "      <td>Yes</td>\n",
              "      <td>1.0</td>\n",
              "      <td>1.0</td>\n",
              "      <td>1.0</td>\n",
              "      <td>Moderate</td>\n",
              "      <td>No</td>\n",
              "    </tr>\n",
              "  </tbody>\n",
              "</table>\n",
              "</div>"
            ],
            "text/plain": [
              "   Gender Age group Marital status Occupation          State         DISTRICT  \\\n",
              "0  Female  25 to 27             No  Corporate  A & N Islands        BAGALKOTE   \n",
              "1    Male  22 to 24             No     Others  A & N Islands  BANGALORE RURAL   \n",
              "2    Male  19 to 21             No    Student  A & N Islands  BANGALORE URBAN   \n",
              "3    Male  25 to 27            Yes     Others  A & N Islands          BELGAUM   \n",
              "4    Male  25 to 27             No    Student  A & N Islands          BELLARY   \n",
              "\n",
              "                            Meditation and Exercises Sleeping time  \\\n",
              "0  I run or walk 1 mile/km a week, I go to the Gy...           1.0   \n",
              "1  I run or walk 1 mile/km a week, I run or walk ...           2.0   \n",
              "2  I go to the Gym/exercise everyday, I do all th...           5.0   \n",
              "3  I go to the Gym/exercise everyday, I meditate ...           1.0   \n",
              "4  I run or walk 1 mile/km a week, I go to the Gy...           2.0   \n",
              "\n",
              "  Family Relations                 Relationship status Concentration  \\\n",
              "0                9                              Single           1.0   \n",
              "1                3                              Single           5.0   \n",
              "2               10  Married, In a relationship, Single           2.0   \n",
              "3                5                              Single           1.0   \n",
              "4                7                              Single           5.0   \n",
              "\n",
              "  ever felt depressed taking any treatment? Phys_health_interview  \\\n",
              "0                 Yes                    No                 Maybe   \n",
              "1                  No                    No                    No   \n",
              "2                 Yes                    No                   Yes   \n",
              "3                 Yes                    No                 Maybe   \n",
              "4                  No                    No                   Yes   \n",
              "\n",
              "  Suicidal attempt? Panic attacks? Hopelessness Depression State  \\\n",
              "0               5.0            5.0          5.0             Mild   \n",
              "1               1.0            1.0          1.0         Moderate   \n",
              "2               2.0            2.0          2.0           Severe   \n",
              "3               5.0            5.0          5.0    No depression   \n",
              "4               1.0            1.0          1.0         Moderate   \n",
              "\n",
              "  Social_Weakness  \n",
              "0             Yes  \n",
              "1             Yes  \n",
              "2              No  \n",
              "3             Yes  \n",
              "4              No  "
            ]
          },
          "execution_count": 135,
          "metadata": {},
          "output_type": "execute_result"
        }
      ],
      "source": [
        "df.head()"
      ]
    },
    {
      "cell_type": "code",
      "execution_count": null,
      "id": "4273ad52",
      "metadata": {
        "id": "4273ad52",
        "outputId": "073e3fe8-d085-428b-e8cd-f0978067ee5d"
      },
      "outputs": [
        {
          "data": {
            "text/plain": [
              "Gender                      0\n",
              "Age group                   0\n",
              "Marital status              0\n",
              "Occupation                  0\n",
              "State                       0\n",
              "DISTRICT                    0\n",
              "Meditation and Exercises    0\n",
              "Sleeping time               0\n",
              "Family Relations            0\n",
              "Relationship status         0\n",
              "Concentration               0\n",
              "ever felt depressed         0\n",
              "taking any treatment?       0\n",
              "Phys_health_interview       0\n",
              "Suicidal attempt?           0\n",
              "Panic attacks?              0\n",
              "Hopelessness                0\n",
              "Depression State            0\n",
              "Social_Weakness             0\n",
              "dtype: int64"
            ]
          },
          "execution_count": 138,
          "metadata": {},
          "output_type": "execute_result"
        }
      ],
      "source": [
        "df.isnull().sum()"
      ]
    },
    {
      "cell_type": "code",
      "execution_count": null,
      "id": "3dd89987",
      "metadata": {
        "id": "3dd89987",
        "outputId": "4e4bda5b-ebd9-43c7-beef-ba57069f5198"
      },
      "outputs": [
        {
          "name": "stdout",
          "output_type": "stream",
          "text": [
            "Gender                           0\n",
            "Age group                        1\n",
            "Marital status              238289\n",
            "Occupation                  236695\n",
            "State                            0\n",
            "DISTRICT                    238573\n",
            "Meditation and Exercises    236011\n",
            "Sleeping time               237263\n",
            "Family Relations            236011\n",
            "Relationship status         237845\n",
            "Concentration               237263\n",
            "ever felt depressed         238289\n",
            "taking any treatment?       236133\n",
            "Phys_health_interview       236260\n",
            "Suicidal attempt?           237263\n",
            "Panic attacks?              237263\n",
            "Hopelessness                237263\n",
            "Depression State            237263\n",
            "Social_Weakness             236695\n",
            "dtype: int64\n"
          ]
        }
      ],
      "source": [
        "unknown_columns = (df == 'Unknown').sum(axis=0)\n",
        "\n",
        "# Print the result\n",
        "print(unknown_columns)"
      ]
    },
    {
      "cell_type": "markdown",
      "id": "503e5790",
      "metadata": {
        "id": "503e5790"
      },
      "source": [
        "### We need to handle this \"Unknown values\""
      ]
    },
    {
      "cell_type": "code",
      "execution_count": null,
      "id": "ac467d70",
      "metadata": {
        "id": "ac467d70",
        "outputId": "5a37f4e6-4330-4037-df93-a62c38534ca0"
      },
      "outputs": [
        {
          "name": "stdout",
          "output_type": "stream",
          "text": [
            "                          Unique Value Count\n",
            "Gender                                     3\n",
            "Age group                                 28\n",
            "Marital status                             3\n",
            "Occupation                                 6\n",
            "State                                     38\n",
            "DISTRICT                                  31\n",
            "Meditation and Exercises                  36\n",
            "Sleeping time                              7\n",
            "Family Relations                          13\n",
            "Relationship status                       11\n",
            "Concentration                              6\n",
            "ever felt depressed                        3\n",
            "taking any treatment?                     28\n",
            "Phys_health_interview                      4\n",
            "Suicidal attempt?                          7\n",
            "Panic attacks?                             7\n",
            "Hopelessness                               7\n",
            "Depression State                          11\n",
            "Social_Weakness                            4\n"
          ]
        }
      ],
      "source": [
        "unique_value_counts = {col: df[col].nunique() for col in df.columns}\n",
        "\n",
        "# Convert the dictionary to a DataFrame for better display\n",
        "unique_value_counts_df = pd.DataFrame.from_dict(unique_value_counts, orient='index', columns=['Unique Value Count'])\n",
        "\n",
        "# Display the DataFrame\n",
        "print(unique_value_counts_df)"
      ]
    },
    {
      "cell_type": "code",
      "execution_count": null,
      "id": "b7853a53",
      "metadata": {
        "id": "b7853a53"
      },
      "outputs": [],
      "source": []
    },
    {
      "cell_type": "code",
      "execution_count": null,
      "id": "0e4f5648",
      "metadata": {
        "id": "0e4f5648"
      },
      "outputs": [],
      "source": []
    },
    {
      "cell_type": "markdown",
      "id": "c504b453",
      "metadata": {
        "id": "c504b453"
      },
      "source": [
        "## Gender"
      ]
    },
    {
      "cell_type": "code",
      "execution_count": null,
      "id": "16308c99",
      "metadata": {
        "id": "16308c99",
        "outputId": "3fbd58c8-83e6-40f2-90f0-302fe3b6e913"
      },
      "outputs": [
        {
          "data": {
            "text/plain": [
              "array(['Female', 'Male', 'I fall into the other 66 gender identities'],\n",
              "      dtype=object)"
            ]
          },
          "execution_count": 141,
          "metadata": {},
          "output_type": "execute_result"
        }
      ],
      "source": [
        "df['Gender'].unique()"
      ]
    },
    {
      "cell_type": "code",
      "execution_count": null,
      "id": "5adb02e6",
      "metadata": {
        "id": "5adb02e6",
        "outputId": "d52e2ec6-dd4c-4558-b257-0ac33bf49cc1"
      },
      "outputs": [
        {
          "data": {
            "text/plain": [
              "Gender\n",
              "Male                                          119445\n",
              "Female                                        119247\n",
              "I fall into the other 66 gender identities         1\n",
              "Name: count, dtype: int64"
            ]
          },
          "execution_count": 142,
          "metadata": {},
          "output_type": "execute_result"
        }
      ],
      "source": [
        "df['Gender'].value_counts()"
      ]
    },
    {
      "cell_type": "code",
      "execution_count": null,
      "id": "97a0e700",
      "metadata": {
        "id": "97a0e700"
      },
      "outputs": [],
      "source": [
        "df=df[df['Gender'] != 'I fall into the other 66 gender identities']"
      ]
    },
    {
      "cell_type": "code",
      "execution_count": null,
      "id": "4c9180c4",
      "metadata": {
        "id": "4c9180c4",
        "outputId": "f1e5baab-b9e5-4a41-cb4a-7eac27bac3ed"
      },
      "outputs": [
        {
          "data": {
            "text/plain": [
              "array(['Female', 'Male'], dtype=object)"
            ]
          },
          "execution_count": 144,
          "metadata": {},
          "output_type": "execute_result"
        }
      ],
      "source": [
        "df['Gender'].unique()"
      ]
    },
    {
      "cell_type": "code",
      "execution_count": null,
      "id": "6ec7cbd2",
      "metadata": {
        "id": "6ec7cbd2"
      },
      "outputs": [],
      "source": []
    },
    {
      "cell_type": "code",
      "execution_count": null,
      "id": "3b8ffee9",
      "metadata": {
        "id": "3b8ffee9"
      },
      "outputs": [],
      "source": []
    },
    {
      "cell_type": "markdown",
      "id": "d8af69fd",
      "metadata": {
        "id": "d8af69fd"
      },
      "source": [
        "## Age"
      ]
    },
    {
      "cell_type": "code",
      "execution_count": null,
      "id": "4fb72172",
      "metadata": {
        "id": "4fb72172",
        "outputId": "d774cef5-603c-4413-bbdf-c8c4e84e7d3a"
      },
      "outputs": [
        {
          "data": {
            "text/plain": [
              "array(['25 to 27', '22 to 24', '19 to 21', '28 to 30', '31 to 33',\n",
              "       '16 to 18', '37 to 39', '40 and above', '34 to 36', '13 to 15',\n",
              "       '0-14', '15-29', '30-44', '45-59', '60+', '0-100+', '20-25',\n",
              "       '30-Above', '25-30', '16-20', '18.0', '21.0', '19.0', '22.0',\n",
              "       '23.0', '20.0', '24.0', 'Unknown'], dtype=object)"
            ]
          },
          "execution_count": 145,
          "metadata": {},
          "output_type": "execute_result"
        }
      ],
      "source": [
        "df['Age group'].unique()  ## needed attention"
      ]
    },
    {
      "cell_type": "markdown",
      "id": "b1856979",
      "metadata": {
        "id": "b1856979"
      },
      "source": [
        "## New Categories\n",
        "##### 0-14\n",
        "##### 15-24\n",
        "##### 25-34\n",
        "##### 35-44\n",
        "##### 45-59\n",
        "##### 60+\n",
        "##### Others (for any unknown or unclassified values)"
      ]
    },
    {
      "cell_type": "code",
      "execution_count": null,
      "id": "a97d79e6",
      "metadata": {
        "id": "a97d79e6"
      },
      "outputs": [],
      "source": [
        "simplified_age_mapping = {\n",
        "    '0-14': '0-14', '13 to 15': '0-14',\n",
        "    '15-29': '15-24', '16 to 18': '15-24', '16-20': '15-24', '19 to 21': '15-24', '18.0': '15-24', '19.0': '15-24', '20.0': '15-24', '20-25': '15-24', '21.0': '15-24', '22.0': '15-24', '23.0': '15-24', '24.0': '15-24',\n",
        "    '22 to 24': '15-24',\n",
        "    '25-30': '25-34', '25 to 27': '25-34', '28 to 30': '25-34', '30-44': '25-34', '31 to 33': '25-34', '34 to 36': '25-34', '30-Above': '25-34',\n",
        "    '37 to 39': '45-59', '35-44': '45-59',\n",
        "    '45-59': '45-59', '40 and above': '45-59',\n",
        "    '60+': '60+',\n",
        "    '0-100+': 'Others',\n",
        "    'Unknown': 'Others'\n",
        "}\n",
        "\n",
        "df['Age group'] = df['Age group'].replace(simplified_age_mapping)"
      ]
    },
    {
      "cell_type": "code",
      "execution_count": null,
      "id": "a6c7d87f",
      "metadata": {
        "id": "a6c7d87f",
        "outputId": "f5ccbac5-7123-494e-f9b7-ddcb586ca04e"
      },
      "outputs": [
        {
          "data": {
            "text/plain": [
              "Age group\n",
              "15-24     45845\n",
              "25-34     45725\n",
              "45-59     45162\n",
              "60+       45074\n",
              "0-14      45029\n",
              "Others    11857\n",
              "Name: count, dtype: int64"
            ]
          },
          "execution_count": 147,
          "metadata": {},
          "output_type": "execute_result"
        }
      ],
      "source": [
        "df['Age group'].value_counts()"
      ]
    },
    {
      "cell_type": "code",
      "execution_count": null,
      "id": "3a80704e",
      "metadata": {
        "id": "3a80704e"
      },
      "outputs": [],
      "source": []
    },
    {
      "cell_type": "code",
      "execution_count": null,
      "id": "ea8dfd6b",
      "metadata": {
        "id": "ea8dfd6b"
      },
      "outputs": [],
      "source": []
    },
    {
      "cell_type": "markdown",
      "id": "94fed743",
      "metadata": {
        "id": "94fed743"
      },
      "source": [
        "## Marital status"
      ]
    },
    {
      "cell_type": "code",
      "execution_count": null,
      "id": "2fe458f9",
      "metadata": {
        "id": "2fe458f9",
        "outputId": "a778b99f-3f73-48fa-939b-1ff3ca005140"
      },
      "outputs": [
        {
          "data": {
            "text/plain": [
              "array(['No', 'Yes', 'Unknown'], dtype=object)"
            ]
          },
          "execution_count": 148,
          "metadata": {},
          "output_type": "execute_result"
        }
      ],
      "source": [
        "df['Marital status'].unique()"
      ]
    },
    {
      "cell_type": "code",
      "execution_count": null,
      "id": "30048ae1",
      "metadata": {
        "id": "30048ae1",
        "outputId": "3d47e749-4391-4b10-9d8b-492bd04c91f7"
      },
      "outputs": [
        {
          "name": "stdout",
          "output_type": "stream",
          "text": [
            "['No' 'Yes' 'Not disclosed']\n"
          ]
        }
      ],
      "source": [
        "df['Marital status'] = df['Marital status'].replace('Unknown', 'Not disclosed')\n",
        "\n",
        "# Check the result\n",
        "print(df['Marital status'].unique())"
      ]
    },
    {
      "cell_type": "code",
      "execution_count": null,
      "id": "a1a491b1",
      "metadata": {
        "id": "a1a491b1",
        "outputId": "9f9e76e5-db97-4dff-8e76-38c1e9a5f32a"
      },
      "outputs": [
        {
          "data": {
            "text/plain": [
              "Marital status\n",
              "Not disclosed    238288\n",
              "No                  340\n",
              "Yes                  64\n",
              "Name: count, dtype: int64"
            ]
          },
          "execution_count": 150,
          "metadata": {},
          "output_type": "execute_result"
        }
      ],
      "source": [
        "df['Marital status'].value_counts()"
      ]
    },
    {
      "cell_type": "code",
      "execution_count": null,
      "id": "b275b3c7",
      "metadata": {
        "id": "b275b3c7"
      },
      "outputs": [],
      "source": []
    },
    {
      "cell_type": "code",
      "execution_count": null,
      "id": "724e7da9",
      "metadata": {
        "id": "724e7da9"
      },
      "outputs": [],
      "source": []
    },
    {
      "cell_type": "markdown",
      "id": "7d29331c",
      "metadata": {
        "id": "7d29331c"
      },
      "source": [
        "## Occupation"
      ]
    },
    {
      "cell_type": "code",
      "execution_count": null,
      "id": "d1416cb4",
      "metadata": {
        "id": "d1416cb4",
        "outputId": "4740ae75-d19e-47fd-bd91-45dfdc2f97b3"
      },
      "outputs": [
        {
          "data": {
            "text/plain": [
              "array(['Corporate', 'Others', 'Student', 'Housewife', 'Business',\n",
              "       'Unknown'], dtype=object)"
            ]
          },
          "execution_count": 151,
          "metadata": {},
          "output_type": "execute_result"
        }
      ],
      "source": [
        "df['Occupation'].unique()"
      ]
    },
    {
      "cell_type": "code",
      "execution_count": null,
      "id": "a6d51845",
      "metadata": {
        "id": "a6d51845",
        "outputId": "4fc635f6-43e7-41af-d16c-f855bad873a7"
      },
      "outputs": [
        {
          "data": {
            "text/plain": [
              "Occupation\n",
              "Unknown      236695\n",
              "Housewife       443\n",
              "Student         437\n",
              "Corporate       394\n",
              "Others          373\n",
              "Business        350\n",
              "Name: count, dtype: int64"
            ]
          },
          "execution_count": 152,
          "metadata": {},
          "output_type": "execute_result"
        }
      ],
      "source": [
        "df['Occupation'].value_counts()"
      ]
    },
    {
      "cell_type": "code",
      "execution_count": null,
      "id": "ed0eaaaa",
      "metadata": {
        "id": "ed0eaaaa",
        "outputId": "b8b690dc-16fd-4ad8-b17a-181f1f755c00"
      },
      "outputs": [
        {
          "name": "stdout",
          "output_type": "stream",
          "text": [
            "Occupation\n",
            "Others       237068\n",
            "Housewife       443\n",
            "Student         437\n",
            "Corporate       394\n",
            "Business        350\n",
            "Name: count, dtype: int64\n"
          ]
        }
      ],
      "source": [
        "df['Occupation'] = df['Occupation'].replace('Unknown', 'Others')\n",
        "\n",
        "# Check the updated value counts\n",
        "print(df['Occupation'].value_counts())"
      ]
    },
    {
      "cell_type": "code",
      "execution_count": null,
      "id": "38a61a9a",
      "metadata": {
        "id": "38a61a9a"
      },
      "outputs": [],
      "source": []
    },
    {
      "cell_type": "code",
      "execution_count": null,
      "id": "b2b92565",
      "metadata": {
        "id": "b2b92565"
      },
      "outputs": [],
      "source": []
    },
    {
      "cell_type": "markdown",
      "id": "03977474",
      "metadata": {
        "id": "03977474"
      },
      "source": [
        "## State"
      ]
    },
    {
      "cell_type": "code",
      "execution_count": null,
      "id": "29510bd5",
      "metadata": {
        "id": "29510bd5",
        "outputId": "e4b933c8-f269-4fb8-b52f-93e0c8746dd0"
      },
      "outputs": [
        {
          "data": {
            "text/plain": [
              "State\n",
              "A & N Islands        7885\n",
              "Karnataka            6792\n",
              "Maharashtra          6792\n",
              "Madhya Pradesh       6792\n",
              "Andhra Pradesh       6791\n",
              "Rajasthan            6791\n",
              "Odisha               6791\n",
              "Bihar                6790\n",
              "Chhattisgarh         6790\n",
              "Haryana              6790\n",
              "Kerala               6788\n",
              "Uttar Pradesh        6787\n",
              "Tamil Nadu           6786\n",
              "Gujarat              6786\n",
              "Assam                6786\n",
              "Jharkhand            6785\n",
              "Tripura              6782\n",
              "Delhi (Ut)           6782\n",
              "West Bengal          6780\n",
              "Punjab               6779\n",
              "Himachal Pradesh     6774\n",
              "Jammu & Kashmir      6761\n",
              "Goa                  6759\n",
              "Uttarakhand          6758\n",
              "Sikkim               6742\n",
              "Mizoram              6737\n",
              "Meghalaya            6733\n",
              "Puducherry           6730\n",
              "Chandigarh           6717\n",
              "Daman & Diu          6710\n",
              "Arunachal Pradesh    6707\n",
              "Nagaland             6705\n",
              "D & N Haveli         6704\n",
              "Manipur              6700\n",
              "Lakshadweep          6674\n",
              "Total (Uts)           312\n",
              "Total (States)        312\n",
              "Total (All India)     312\n",
              "Name: count, dtype: int64"
            ]
          },
          "execution_count": 154,
          "metadata": {},
          "output_type": "execute_result"
        }
      ],
      "source": [
        "df['State'].value_counts()"
      ]
    },
    {
      "cell_type": "code",
      "execution_count": null,
      "id": "36a01c51",
      "metadata": {
        "id": "36a01c51",
        "outputId": "7bc4d9b7-a53a-4486-bdd0-f81d3f0167df"
      },
      "outputs": [
        {
          "data": {
            "text/plain": [
              "DISTRICT\n",
              "Unknown             238572\n",
              "HASSAN                   4\n",
              "YADGIR                   4\n",
              "UTTARA KANNADA           4\n",
              "UDUPI                    4\n",
              "TUMKUR                   4\n",
              "SHIVAMOGGA               4\n",
              "RAMANAGAR                4\n",
              "RAICHUR                  4\n",
              "MYSORE                   4\n",
              "MANDYA                   4\n",
              "KOPPAL                   4\n",
              "KOLAR                    4\n",
              "KODAGU                   4\n",
              "HAVERI                   4\n",
              "BAGALKOTE                4\n",
              "BANGALORE RURAL          4\n",
              "GADAG                    4\n",
              "DHARWAD                  4\n",
              "DAVANAGERE               4\n",
              "DAKSHINA KANNADA         4\n",
              "CHITRADURGA              4\n",
              "CHIKMAGALUR              4\n",
              "CHIKKABALLAPUR           4\n",
              "CHAMRAJNAGAR             4\n",
              "BIJAPUR                  4\n",
              "BIDAR                    4\n",
              "BELLARY                  4\n",
              "BELGAUM                  4\n",
              "BANGALORE URBAN          4\n",
              "GULBARGA                 4\n",
              "Name: count, dtype: int64"
            ]
          },
          "execution_count": 155,
          "metadata": {},
          "output_type": "execute_result"
        }
      ],
      "source": [
        "df['DISTRICT'].value_counts()"
      ]
    },
    {
      "cell_type": "code",
      "execution_count": null,
      "id": "b2f929a1",
      "metadata": {
        "id": "b2f929a1"
      },
      "outputs": [],
      "source": [
        "df = df.drop(columns=['DISTRICT'])"
      ]
    },
    {
      "cell_type": "code",
      "execution_count": null,
      "id": "a50adfcd",
      "metadata": {
        "id": "a50adfcd"
      },
      "outputs": [],
      "source": []
    },
    {
      "cell_type": "code",
      "execution_count": null,
      "id": "48b967d2",
      "metadata": {
        "id": "48b967d2"
      },
      "outputs": [],
      "source": []
    },
    {
      "cell_type": "markdown",
      "id": "42c30812",
      "metadata": {
        "id": "42c30812"
      },
      "source": [
        "## Meditation and exercises"
      ]
    },
    {
      "cell_type": "code",
      "execution_count": null,
      "id": "b429ae6e",
      "metadata": {
        "id": "b429ae6e",
        "outputId": "f3e7ddce-b31a-4913-fef0-db4825e12411"
      },
      "outputs": [
        {
          "data": {
            "text/plain": [
              "array(['I run or walk 1 mile/km a week, I go to the Gym/exercise everyday, I clean my house/help someone clean my house once a week',\n",
              "       'I run or walk 1 mile/km a week, I run or walk 5 mile/km a week, I clean my house/help someone clean my house once a week',\n",
              "       'I go to the Gym/exercise everyday, I do all the household chores by myself, I meditate at least once a week',\n",
              "       'I go to the Gym/exercise everyday, I meditate at least once a week, I clean my house/help someone clean my house once a week',\n",
              "       'I run or walk 1 mile/km a week, I go to the Gym/exercise everyday, I run or walk 5 mile/km a week',\n",
              "       'I run or walk 1 mile/km a week, I run or walk 5 mile/km a week, I meditate at least once a week',\n",
              "       'I do all the household chores by myself, I clean my house/help someone clean my house once a week, Its been a while that I have done any physical activity to push my body',\n",
              "       'I meditate at least once a week, I clean my house/help someone clean my house once a week, Its been a while that I have done any physical activity to push my body',\n",
              "       'I run or walk 5 mile/km a week, I clean my house/help someone clean my house once a week, Its been a while that I have done any physical activity to push my body',\n",
              "       'I go to the Gym/exercise everyday, I run or walk 5 mile/km a week, I clean my house/help someone clean my house once a week',\n",
              "       'I run or walk 1 mile/km a week, I do all the household chores by myself, Its been a while that I have done any physical activity to push my body',\n",
              "       'I run or walk 5 mile/km a week, I do all the household chores by myself, I clean my house/help someone clean my house once a week',\n",
              "       'I run or walk 1 mile/km a week, I go to the Gym/exercise everyday, I meditate at least once a week',\n",
              "       'I run or walk 1 mile/km a week, I run or walk 5 mile/km a week, Its been a while that I have done any physical activity to push my body',\n",
              "       'I run or walk 1 mile/km a week, I clean my house/help someone clean my house once a week, Its been a while that I have done any physical activity to push my body',\n",
              "       'I run or walk 1 mile/km a week, I meditate at least once a week, I clean my house/help someone clean my house once a week',\n",
              "       'I run or walk 5 mile/km a week, I meditate at least once a week, I clean my house/help someone clean my house once a week',\n",
              "       'I run or walk 1 mile/km a week, I meditate at least once a week, Its been a while that I have done any physical activity to push my body',\n",
              "       'I run or walk 1 mile/km a week, I run or walk 5 mile/km a week, I do all the household chores by myself',\n",
              "       'I go to the Gym/exercise everyday, I run or walk 5 mile/km a week, I do all the household chores by myself',\n",
              "       'I run or walk 5 mile/km a week, I do all the household chores by myself, I meditate at least once a week',\n",
              "       'I run or walk 1 mile/km a week, I do all the household chores by myself, I clean my house/help someone clean my house once a week',\n",
              "       'I go to the Gym/exercise everyday, I run or walk 5 mile/km a week, I meditate at least once a week',\n",
              "       'I run or walk 1 mile/km a week, I go to the Gym/exercise everyday, I do all the household chores by myself',\n",
              "       'I run or walk 5 mile/km a week, I meditate at least once a week, Its been a while that I have done any physical activity to push my body',\n",
              "       'I go to the Gym/exercise everyday, I run or walk 5 mile/km a week, Its been a while that I have done any physical activity to push my body',\n",
              "       'I do all the household chores by myself, I meditate at least once a week, I clean my house/help someone clean my house once a week',\n",
              "       'I go to the Gym/exercise everyday, I do all the household chores by myself, I clean my house/help someone clean my house once a week',\n",
              "       'I run or walk 1 mile/km a week, I do all the household chores by myself, I meditate at least once a week',\n",
              "       'I run or walk 5 mile/km a week, I do all the household chores by myself, Its been a while that I have done any physical activity to push my body',\n",
              "       'I go to the Gym/exercise everyday, I clean my house/help someone clean my house once a week, Its been a while that I have done any physical activity to push my body',\n",
              "       'I do all the household chores by myself, I meditate at least once a week, Its been a while that I have done any physical activity to push my body',\n",
              "       'No', \"Don't know\", 'Yes', 'Unknown'], dtype=object)"
            ]
          },
          "execution_count": 157,
          "metadata": {},
          "output_type": "execute_result"
        }
      ],
      "source": [
        "df['Meditation and Exercises'].unique()"
      ]
    },
    {
      "cell_type": "code",
      "execution_count": null,
      "id": "c000ed19",
      "metadata": {
        "id": "c000ed19"
      },
      "outputs": [],
      "source": [
        "# Define mapping function\n",
        "def map_exercise_category(activity):\n",
        "    if activity in [\n",
        "        'I run or walk 1 mile/km a week, I go to the Gym/exercise everyday, I clean my house/help someone clean my house once a week',\n",
        "        'I run or walk 1 mile/km a week, I run or walk 5 mile/km a week, I clean my house/help someone clean my house once a week',\n",
        "        'I go to the Gym/exercise everyday, I meditate at least once a week, I clean my house/help someone clean my house once a week',\n",
        "        'I run or walk 1 mile/km a week, I run or walk 5 mile/km a week',\n",
        "        'I run or walk 1 mile/km a week, I go to the Gym/exercise everyday',\n",
        "        'I run or walk 5 mile/km a week, I do all the household chores by myself',\n",
        "        'I go to the Gym/exercise everyday, I run or walk 5 mile/km a week',\n",
        "        'I run or walk 1 mile/km a week, I run or walk 5 mile/km a week, I meditate at least once a week'\n",
        "    ]:\n",
        "        return 'Exercise Regularly'\n",
        "    elif activity in [\n",
        "        'I run or walk 1 mile/km a week, I do all the household chores by myself',\n",
        "        'I run or walk 1 mile/km a week, I meditate at least once a week',\n",
        "        'I run or walk 1 mile/km a week, I clean my house/help someone clean my house once a week',\n",
        "        'I run or walk 1 mile/km a week, Its been a while that I have done any physical activity',\n",
        "        'I meditate at least once a week, I clean my house/help someone clean my house once a week'\n",
        "    ]:\n",
        "        return 'Exercise Occasionally'\n",
        "    elif activity in [\n",
        "        'I do all the household chores by myself, I clean my house/help someone clean my house once a week',\n",
        "        'I do all the household chores by myself, Its been a while that I have done any physical activity'\n",
        "    ]:\n",
        "        return 'Household Chores Only'\n",
        "    elif activity in [\n",
        "        'I meditate at least once a week, I do all the household chores by myself',\n",
        "        'I meditate at least once a week, I run or walk 1 mile/km a week',\n",
        "        'I meditate at least once a week, Its been a while that I have done any physical activity'\n",
        "    ]:\n",
        "        return 'Meditation'\n",
        "    elif activity in [\n",
        "        'No',\n",
        "        'Its been a while that I have done any physical activity'\n",
        "    ]:\n",
        "        return 'Exercise Rarely'\n",
        "    elif activity in [\n",
        "        \"Don't know\",\n",
        "        'Unknown'\n",
        "    ]:\n",
        "        return 'Unknown/Uncertain'\n",
        "    else:\n",
        "        return 'Uncategorized'\n",
        "\n",
        "# Apply the mapping function to the DataFrame\n",
        "df['Meditation and Exercises']=df['Meditation and Exercises'].apply(map_exercise_category)\n",
        "\n"
      ]
    },
    {
      "cell_type": "code",
      "execution_count": null,
      "id": "19170494",
      "metadata": {
        "id": "19170494",
        "outputId": "73c559ce-c400-4c2f-c138-ee297eea807d"
      },
      "outputs": [
        {
          "data": {
            "text/plain": [
              "array(['Exercise Regularly', 'Uncategorized', 'Exercise Rarely',\n",
              "       'Unknown/Uncertain'], dtype=object)"
            ]
          },
          "execution_count": 159,
          "metadata": {},
          "output_type": "execute_result"
        }
      ],
      "source": [
        "df['Meditation and Exercises'].unique()"
      ]
    },
    {
      "cell_type": "code",
      "execution_count": null,
      "id": "15516b03",
      "metadata": {
        "id": "15516b03",
        "outputId": "70260e58-832d-403f-8e5d-1376d329920c"
      },
      "outputs": [
        {
          "data": {
            "text/plain": [
              "Meditation and Exercises\n",
              "Unknown/Uncertain     236301\n",
              "Exercise Rarely         1217\n",
              "Uncategorized           1041\n",
              "Exercise Regularly       133\n",
              "Name: count, dtype: int64"
            ]
          },
          "execution_count": 160,
          "metadata": {},
          "output_type": "execute_result"
        }
      ],
      "source": [
        "df['Meditation and Exercises'].value_counts()"
      ]
    },
    {
      "cell_type": "code",
      "execution_count": null,
      "id": "6176704a",
      "metadata": {
        "id": "6176704a"
      },
      "outputs": [],
      "source": []
    },
    {
      "cell_type": "code",
      "execution_count": null,
      "id": "bf19fc84",
      "metadata": {
        "id": "bf19fc84"
      },
      "outputs": [],
      "source": []
    },
    {
      "cell_type": "code",
      "execution_count": null,
      "id": "f48d1a8b",
      "metadata": {
        "id": "f48d1a8b"
      },
      "outputs": [],
      "source": []
    },
    {
      "cell_type": "markdown",
      "id": "017dfa8a",
      "metadata": {
        "id": "017dfa8a"
      },
      "source": [
        "## Sleeping time"
      ]
    },
    {
      "cell_type": "code",
      "execution_count": null,
      "id": "b252a08b",
      "metadata": {
        "id": "b252a08b",
        "outputId": "90c745ee-4215-4b3c-c5e4-7b9401beed03"
      },
      "outputs": [
        {
          "data": {
            "text/plain": [
              "array(['1.0', '2.0', '5.0', '6.0', '3.0', '4.0', 'Unknown'], dtype=object)"
            ]
          },
          "execution_count": 161,
          "metadata": {},
          "output_type": "execute_result"
        }
      ],
      "source": [
        "df['Sleeping time'].unique()  ##will see"
      ]
    },
    {
      "cell_type": "code",
      "execution_count": null,
      "id": "27b1fe14",
      "metadata": {
        "id": "27b1fe14",
        "outputId": "11b15751-120b-419c-ded9-b74855bb1990"
      },
      "outputs": [
        {
          "data": {
            "text/plain": [
              "Sleeping time\n",
              "Unknown    237263\n",
              "5.0           441\n",
              "1.0           415\n",
              "2.0           366\n",
              "3.0            84\n",
              "4.0            84\n",
              "6.0            39\n",
              "Name: count, dtype: int64"
            ]
          },
          "execution_count": 162,
          "metadata": {},
          "output_type": "execute_result"
        }
      ],
      "source": [
        "df['Sleeping time'].value_counts()"
      ]
    },
    {
      "cell_type": "code",
      "execution_count": null,
      "id": "1784f665",
      "metadata": {
        "id": "1784f665"
      },
      "outputs": [],
      "source": [
        "df['Sleeping time'] = df['Sleeping time'].replace('Unknown', 'not disclose')"
      ]
    },
    {
      "cell_type": "code",
      "execution_count": null,
      "id": "387dcf09",
      "metadata": {
        "id": "387dcf09",
        "outputId": "4a1209d2-2f08-4975-e2b4-313a88aa20f7"
      },
      "outputs": [
        {
          "data": {
            "text/plain": [
              "array(['1.0', '2.0', '5.0', '6.0', '3.0', '4.0', 'not disclose'],\n",
              "      dtype=object)"
            ]
          },
          "execution_count": 165,
          "metadata": {},
          "output_type": "execute_result"
        }
      ],
      "source": [
        "df['Sleeping time'].unique()"
      ]
    },
    {
      "cell_type": "code",
      "execution_count": null,
      "id": "6e0ed6e2",
      "metadata": {
        "id": "6e0ed6e2"
      },
      "outputs": [],
      "source": []
    },
    {
      "cell_type": "code",
      "execution_count": null,
      "id": "89011084",
      "metadata": {
        "id": "89011084"
      },
      "outputs": [],
      "source": []
    },
    {
      "cell_type": "markdown",
      "id": "09ed2fbe",
      "metadata": {
        "id": "09ed2fbe"
      },
      "source": [
        "## Family relations"
      ]
    },
    {
      "cell_type": "code",
      "execution_count": null,
      "id": "737034ad",
      "metadata": {
        "id": "737034ad",
        "outputId": "e8f88aa3-a1a2-404f-a18e-107e729233c5"
      },
      "outputs": [
        {
          "data": {
            "text/plain": [
              "array(['9', '3', '10', '5', '7', '8', '6', '1', '2', '4', 'No', 'Yes',\n",
              "       'Unknown'], dtype=object)"
            ]
          },
          "execution_count": 166,
          "metadata": {},
          "output_type": "execute_result"
        }
      ],
      "source": [
        "df['Family Relations'].unique()"
      ]
    },
    {
      "cell_type": "code",
      "execution_count": null,
      "id": "1fc9933a",
      "metadata": {
        "id": "1fc9933a"
      },
      "outputs": [],
      "source": [
        "# Define the mapping function\n",
        "def map_family_relations(value):\n",
        "    if value in ['1', '2', '3', 'No']:\n",
        "        return 'Low'\n",
        "    elif value in ['4', '5', '6', '7', 'Unknown']:\n",
        "        return 'Medium'\n",
        "    elif value in ['8', '9', '10', 'Yes']:\n",
        "        return 'High'\n",
        "    else:\n",
        "        return 'Uncategorized'\n",
        "\n",
        "# Apply the mapping function to the DataFrame\n",
        "df['Family Relations'] = df['Family Relations'].apply(map_family_relations)"
      ]
    },
    {
      "cell_type": "code",
      "execution_count": null,
      "id": "12bcb386",
      "metadata": {
        "id": "12bcb386",
        "outputId": "584ef868-da1a-46fd-e6db-7ffb01b9b8d9"
      },
      "outputs": [
        {
          "data": {
            "text/plain": [
              "Family Relations\n",
              "Medium    236313\n",
              "High        1198\n",
              "Low         1181\n",
              "Name: count, dtype: int64"
            ]
          },
          "execution_count": 168,
          "metadata": {},
          "output_type": "execute_result"
        }
      ],
      "source": [
        "df['Family Relations'].value_counts()"
      ]
    },
    {
      "cell_type": "code",
      "execution_count": null,
      "id": "5812c20b",
      "metadata": {
        "id": "5812c20b"
      },
      "outputs": [],
      "source": []
    },
    {
      "cell_type": "code",
      "execution_count": null,
      "id": "4610ae05",
      "metadata": {
        "id": "4610ae05"
      },
      "outputs": [],
      "source": []
    },
    {
      "cell_type": "code",
      "execution_count": null,
      "id": "cfbb786d",
      "metadata": {
        "id": "cfbb786d"
      },
      "outputs": [],
      "source": []
    },
    {
      "cell_type": "markdown",
      "id": "e8c2571f",
      "metadata": {
        "id": "e8c2571f"
      },
      "source": [
        "## Relationship status"
      ]
    },
    {
      "cell_type": "code",
      "execution_count": null,
      "id": "e6e23259",
      "metadata": {
        "id": "e6e23259",
        "outputId": "bc96477f-9f9b-4307-b32d-a91f1dea0b4d"
      },
      "outputs": [
        {
          "data": {
            "text/plain": [
              "array(['Single', 'Married, In a relationship, Single',\n",
              "       'Not in this relationship',\n",
              "       'I am Married and I am super happy with my partner',\n",
              "       'I am Married and I am happy, but I do have occasional issues with my partner',\n",
              "       'I am in a relationship and I am happy, but I do have occasional issues with my partner',\n",
              "       'I am not in a relationship with anyone',\n",
              "       'I am in a relationship and I am super happy with my partner',\n",
              "       'I am Married and I am not happy, since I have frequent issues with my partner',\n",
              "       'I am in a relationship and I am not happy, since I have frequent issues with my partner',\n",
              "       'Unknown'], dtype=object)"
            ]
          },
          "execution_count": 169,
          "metadata": {},
          "output_type": "execute_result"
        }
      ],
      "source": [
        "df['Relationship status'].unique()"
      ]
    },
    {
      "cell_type": "code",
      "execution_count": null,
      "id": "7503f54b",
      "metadata": {
        "id": "7503f54b"
      },
      "outputs": [],
      "source": [
        "# Define the mapping function\n",
        "def map_relationship_status(status):\n",
        "    if status in [\n",
        "        'Single',\n",
        "        'I am not in a relationship with anyone',\n",
        "        'Not in this relationship'\n",
        "    ]:\n",
        "        return 'Single'\n",
        "    elif status in [\n",
        "        'I am Married and I am super happy with my partner',\n",
        "        'I am Married and I am happy, but I do have occasional issues with my partner'\n",
        "    ]:\n",
        "        return 'Married - Happy'\n",
        "    elif status == 'I am Married and I am not happy, since I have frequent issues with my partner':\n",
        "        return 'Married - Unhappy'\n",
        "    elif status in [\n",
        "        'I am in a relationship and I am super happy with my partner',\n",
        "        'I am in a relationship and I am happy, but I do have occasional issues with my partner'\n",
        "    ]:\n",
        "        return 'In a Relationship - Happy'\n",
        "    elif status == 'I am in a relationship and I am not happy, since I have frequent issues with my partner':\n",
        "        return 'In a Relationship - Unhappy'\n",
        "    elif status == 'Unknown':\n",
        "        return 'Prefer not to disclose'\n",
        "    elif status in [\n",
        "        'Married, In a relationship, Single'\n",
        "    ]:\n",
        "        return 'Single'\n",
        "    else:\n",
        "        return 'Uncategorized'\n",
        "\n",
        "# Apply the mapping function to the DataFrame\n",
        "df['Relationship status'] = df['Relationship status'].apply(map_relationship_status)"
      ]
    },
    {
      "cell_type": "code",
      "execution_count": null,
      "id": "3ce52ec8",
      "metadata": {
        "id": "3ce52ec8",
        "outputId": "f7e42d11-87ea-42cf-88d4-1c143dafad64"
      },
      "outputs": [
        {
          "data": {
            "text/plain": [
              "Relationship status\n",
              "Prefer not to disclose         237845\n",
              "Single                            506\n",
              "Married - Happy                   165\n",
              "In a Relationship - Happy         148\n",
              "Married - Unhappy                  18\n",
              "In a Relationship - Unhappy        10\n",
              "Name: count, dtype: int64"
            ]
          },
          "execution_count": 171,
          "metadata": {},
          "output_type": "execute_result"
        }
      ],
      "source": [
        "df['Relationship status'].value_counts()"
      ]
    },
    {
      "cell_type": "code",
      "execution_count": null,
      "id": "7fffcef5",
      "metadata": {
        "id": "7fffcef5"
      },
      "outputs": [],
      "source": []
    },
    {
      "cell_type": "code",
      "execution_count": null,
      "id": "a67d9b06",
      "metadata": {
        "id": "a67d9b06"
      },
      "outputs": [],
      "source": []
    },
    {
      "cell_type": "markdown",
      "id": "0ee953b2",
      "metadata": {
        "id": "0ee953b2"
      },
      "source": [
        "## Concentraion"
      ]
    },
    {
      "cell_type": "code",
      "execution_count": null,
      "id": "d21630e3",
      "metadata": {
        "id": "d21630e3",
        "outputId": "1319ca44-89ad-4d14-cc84-ae6290f73ae6"
      },
      "outputs": [
        {
          "data": {
            "text/plain": [
              "array(['1.0', '5.0', '2.0', '3.0', '4.0', 'Unknown'], dtype=object)"
            ]
          },
          "execution_count": 175,
          "metadata": {},
          "output_type": "execute_result"
        }
      ],
      "source": [
        "df['Concentration'].unique()"
      ]
    },
    {
      "cell_type": "code",
      "execution_count": null,
      "id": "05c53310",
      "metadata": {
        "id": "05c53310",
        "outputId": "9e8ec3c4-cd6f-42a7-ab96-c16e76beb901"
      },
      "outputs": [
        {
          "data": {
            "text/plain": [
              "Concentration\n",
              "Unknown    237263\n",
              "5.0           450\n",
              "1.0           442\n",
              "2.0           369\n",
              "3.0            84\n",
              "4.0            84\n",
              "Name: count, dtype: int64"
            ]
          },
          "execution_count": 176,
          "metadata": {},
          "output_type": "execute_result"
        }
      ],
      "source": [
        "df['Concentration'].value_counts()"
      ]
    },
    {
      "cell_type": "code",
      "execution_count": null,
      "id": "4809d4c3",
      "metadata": {
        "id": "4809d4c3"
      },
      "outputs": [],
      "source": [
        "df['Concentration'] = df['Concentration'].replace('Unknown', 'Prefer not to disclose')"
      ]
    },
    {
      "cell_type": "code",
      "execution_count": null,
      "id": "245018e3",
      "metadata": {
        "id": "245018e3",
        "outputId": "ba2b62bf-38a6-469a-ade0-fcdc0af71bc3"
      },
      "outputs": [
        {
          "data": {
            "text/plain": [
              "array(['1.0', '5.0', '2.0', '3.0', '4.0', 'Prefer not to disclose'],\n",
              "      dtype=object)"
            ]
          },
          "execution_count": 178,
          "metadata": {},
          "output_type": "execute_result"
        }
      ],
      "source": [
        "df['Concentration'].unique()"
      ]
    },
    {
      "cell_type": "code",
      "execution_count": null,
      "id": "05a0a4be",
      "metadata": {
        "id": "05a0a4be"
      },
      "outputs": [],
      "source": []
    },
    {
      "cell_type": "code",
      "execution_count": null,
      "id": "2cece997",
      "metadata": {
        "id": "2cece997"
      },
      "outputs": [],
      "source": []
    },
    {
      "cell_type": "code",
      "execution_count": null,
      "id": "7147acec",
      "metadata": {
        "id": "7147acec"
      },
      "outputs": [],
      "source": []
    },
    {
      "cell_type": "markdown",
      "id": "656e9072",
      "metadata": {
        "id": "656e9072"
      },
      "source": [
        "## ever felt depressed"
      ]
    },
    {
      "cell_type": "code",
      "execution_count": null,
      "id": "97607d96",
      "metadata": {
        "id": "97607d96",
        "outputId": "cb705d9e-9bb4-4b76-8dd9-f20db1953ecb"
      },
      "outputs": [
        {
          "data": {
            "text/plain": [
              "array(['Yes', 'No', 'Unknown'], dtype=object)"
            ]
          },
          "execution_count": 179,
          "metadata": {},
          "output_type": "execute_result"
        }
      ],
      "source": [
        "df['ever felt depressed'].unique()"
      ]
    },
    {
      "cell_type": "code",
      "execution_count": null,
      "id": "629a4a18",
      "metadata": {
        "id": "629a4a18",
        "outputId": "1d0c51a3-1c05-4d0c-b1eb-025ec9ae7870"
      },
      "outputs": [
        {
          "data": {
            "text/plain": [
              "ever felt depressed\n",
              "Unknown    238288\n",
              "No            264\n",
              "Yes           140\n",
              "Name: count, dtype: int64"
            ]
          },
          "execution_count": 180,
          "metadata": {},
          "output_type": "execute_result"
        }
      ],
      "source": [
        "df['ever felt depressed'].value_counts()"
      ]
    },
    {
      "cell_type": "code",
      "execution_count": null,
      "id": "1de62548",
      "metadata": {
        "id": "1de62548"
      },
      "outputs": [],
      "source": [
        "# Replace 'Unknown' with 'Prefer not to disclose'\n",
        "df['ever felt depressed'] = df['ever felt depressed'].replace('Unknown', 'Prefer not to disclose')\n"
      ]
    },
    {
      "cell_type": "code",
      "execution_count": null,
      "id": "11f6179a",
      "metadata": {
        "id": "11f6179a",
        "outputId": "b116feb8-64de-4e34-b147-f9c32e4c26da"
      },
      "outputs": [
        {
          "data": {
            "text/plain": [
              "array(['Yes', 'No', 'Prefer not to disclose'], dtype=object)"
            ]
          },
          "execution_count": 182,
          "metadata": {},
          "output_type": "execute_result"
        }
      ],
      "source": [
        "df['ever felt depressed'].unique()"
      ]
    },
    {
      "cell_type": "code",
      "execution_count": null,
      "id": "1cf3c36d",
      "metadata": {
        "id": "1cf3c36d"
      },
      "outputs": [],
      "source": []
    },
    {
      "cell_type": "code",
      "execution_count": null,
      "id": "df02646d",
      "metadata": {
        "id": "df02646d"
      },
      "outputs": [],
      "source": []
    },
    {
      "cell_type": "markdown",
      "id": "af36721f",
      "metadata": {
        "id": "af36721f"
      },
      "source": [
        "## Treatment"
      ]
    },
    {
      "cell_type": "code",
      "execution_count": null,
      "id": "b9f46a66",
      "metadata": {
        "id": "b9f46a66",
        "outputId": "828cd282-b3cb-457e-ae64-adef4907f1b5"
      },
      "outputs": [
        {
          "data": {
            "text/plain": [
              "array(['No', 'Yes', '12.0', '8.8', '11.2', '7.3', '3.2', '13.7', '13.0',\n",
              "       '13.8', '1.7', '15.8', '9.1', '11.6', '1.3', '2.3', '3.8', '3.3',\n",
              "       '10.5', '16.1', '0.0', '1.1', '10.9', '8.7', '10.7', '11.9', '7.1',\n",
              "       'Unknown'], dtype=object)"
            ]
          },
          "execution_count": 183,
          "metadata": {},
          "output_type": "execute_result"
        }
      ],
      "source": [
        "df['taking any treatment?'].unique()"
      ]
    },
    {
      "cell_type": "code",
      "execution_count": null,
      "id": "f1237ca3",
      "metadata": {
        "id": "f1237ca3"
      },
      "outputs": [],
      "source": [
        "df['taking any treatment?'] = df['taking any treatment?'].replace({\n",
        "    'Unknown': 'Prefer not to disclose'\n",
        "}).replace({\n",
        "    '0.0': 'Yes', '1.1': 'Yes', '1.3': 'Yes', '1.7': 'Yes', '2.3': 'Yes', '3.2': 'Yes',\n",
        "    '3.3': 'Yes', '3.8': 'Yes', '7.1': 'Yes', '7.3': 'Yes', '8.7': 'Yes', '8.8': 'Yes',\n",
        "    '9.1': 'Yes', '10.5': 'Yes', '10.7': 'Yes', '10.9': 'Yes', '11.2': 'Yes', '11.6': 'Yes',\n",
        "    '11.9': 'Yes', '13.0': 'Yes', '13.7': 'Yes', '13.8': 'Yes', '15.8': 'Yes', '16.1': 'Yes', '12.0':'Yes'\n",
        "})"
      ]
    },
    {
      "cell_type": "code",
      "execution_count": null,
      "id": "28e18df7",
      "metadata": {
        "id": "28e18df7",
        "outputId": "37aa775e-9c2f-40a5-b12f-74c849efcae8"
      },
      "outputs": [
        {
          "data": {
            "text/plain": [
              "array(['No', 'Yes', 'Prefer not to disclose'], dtype=object)"
            ]
          },
          "execution_count": 185,
          "metadata": {},
          "output_type": "execute_result"
        }
      ],
      "source": [
        "df['taking any treatment?'].unique()"
      ]
    },
    {
      "cell_type": "code",
      "execution_count": null,
      "id": "e5d5002f",
      "metadata": {
        "id": "e5d5002f"
      },
      "outputs": [],
      "source": []
    },
    {
      "cell_type": "code",
      "execution_count": null,
      "id": "f4c22e1d",
      "metadata": {
        "id": "f4c22e1d"
      },
      "outputs": [],
      "source": []
    },
    {
      "cell_type": "markdown",
      "id": "95fd0866",
      "metadata": {
        "id": "95fd0866"
      },
      "source": [
        "## Phys_health_interview"
      ]
    },
    {
      "cell_type": "code",
      "execution_count": null,
      "id": "08c31753",
      "metadata": {
        "id": "08c31753",
        "outputId": "1da2d200-24a1-4dac-ced0-15c5fbfbbe43"
      },
      "outputs": [
        {
          "data": {
            "text/plain": [
              "Phys_health_interview\n",
              "Unknown    236260\n",
              "Maybe        1079\n",
              "No            939\n",
              "Yes           414\n",
              "Name: count, dtype: int64"
            ]
          },
          "execution_count": 186,
          "metadata": {},
          "output_type": "execute_result"
        }
      ],
      "source": [
        "df['Phys_health_interview'].value_counts()"
      ]
    },
    {
      "cell_type": "code",
      "execution_count": null,
      "id": "63673362",
      "metadata": {
        "id": "63673362"
      },
      "outputs": [],
      "source": [
        "df['Phys_health_interview'] = df['Phys_health_interview'].replace('Unknown', 'Prefer not to disclose')"
      ]
    },
    {
      "cell_type": "code",
      "execution_count": null,
      "id": "e5a476b0",
      "metadata": {
        "id": "e5a476b0",
        "outputId": "e3622715-db42-4386-e9e3-41f9da395c27"
      },
      "outputs": [
        {
          "data": {
            "text/plain": [
              "Phys_health_interview\n",
              "Prefer not to disclose    236260\n",
              "Maybe                       1079\n",
              "No                           939\n",
              "Yes                          414\n",
              "Name: count, dtype: int64"
            ]
          },
          "execution_count": 188,
          "metadata": {},
          "output_type": "execute_result"
        }
      ],
      "source": [
        "df['Phys_health_interview'].value_counts()"
      ]
    },
    {
      "cell_type": "code",
      "execution_count": null,
      "id": "6d4c3703",
      "metadata": {
        "id": "6d4c3703"
      },
      "outputs": [],
      "source": []
    },
    {
      "cell_type": "code",
      "execution_count": null,
      "id": "487d33b8",
      "metadata": {
        "id": "487d33b8"
      },
      "outputs": [],
      "source": []
    },
    {
      "cell_type": "code",
      "execution_count": null,
      "id": "972293bc",
      "metadata": {
        "id": "972293bc"
      },
      "outputs": [],
      "source": []
    },
    {
      "cell_type": "code",
      "execution_count": null,
      "id": "fafd2684",
      "metadata": {
        "id": "fafd2684"
      },
      "outputs": [],
      "source": []
    },
    {
      "cell_type": "markdown",
      "id": "306c1f59",
      "metadata": {
        "id": "306c1f59"
      },
      "source": [
        "## Suicidal attempt"
      ]
    },
    {
      "cell_type": "code",
      "execution_count": null,
      "id": "48a341b4",
      "metadata": {
        "id": "48a341b4",
        "outputId": "9eada327-ee7b-4424-cb9b-286ef300de0e"
      },
      "outputs": [
        {
          "data": {
            "text/plain": [
              "array(['5.0', '1.0', '2.0', '6.0', '3.0', '4.0', 'Unknown'], dtype=object)"
            ]
          },
          "execution_count": 189,
          "metadata": {},
          "output_type": "execute_result"
        }
      ],
      "source": [
        "df['Suicidal attempt?'].unique()"
      ]
    },
    {
      "cell_type": "code",
      "execution_count": null,
      "id": "1cc1d4b9",
      "metadata": {
        "id": "1cc1d4b9"
      },
      "outputs": [],
      "source": [
        "# Replace 'Unknown' with 'Prefer not to disclose'\n",
        "df['Suicidal attempt?'] = df['Suicidal attempt?'].replace('Unknown', 'Prefer not to disclose')\n"
      ]
    },
    {
      "cell_type": "code",
      "execution_count": null,
      "id": "d87c44e8",
      "metadata": {
        "id": "d87c44e8",
        "outputId": "5d8da40c-ff22-4545-c87f-3d6ace7b6ce4"
      },
      "outputs": [
        {
          "data": {
            "text/plain": [
              "Suicidal attempt?\n",
              "Prefer not to disclose    237263\n",
              "5.0                          461\n",
              "1.0                          392\n",
              "2.0                          369\n",
              "3.0                           84\n",
              "4.0                           84\n",
              "6.0                           39\n",
              "Name: count, dtype: int64"
            ]
          },
          "execution_count": 191,
          "metadata": {},
          "output_type": "execute_result"
        }
      ],
      "source": [
        "df['Suicidal attempt?'].value_counts()"
      ]
    },
    {
      "cell_type": "code",
      "execution_count": null,
      "id": "c7919d38",
      "metadata": {
        "id": "c7919d38"
      },
      "outputs": [],
      "source": []
    },
    {
      "cell_type": "code",
      "execution_count": null,
      "id": "82c3a7c7",
      "metadata": {
        "id": "82c3a7c7"
      },
      "outputs": [],
      "source": []
    },
    {
      "cell_type": "code",
      "execution_count": null,
      "id": "72b9fb17",
      "metadata": {
        "id": "72b9fb17"
      },
      "outputs": [],
      "source": []
    },
    {
      "cell_type": "code",
      "execution_count": null,
      "id": "1f209b99",
      "metadata": {
        "id": "1f209b99"
      },
      "outputs": [],
      "source": []
    },
    {
      "cell_type": "markdown",
      "id": "4fbebe77",
      "metadata": {
        "id": "4fbebe77"
      },
      "source": [
        "## Panic attacks"
      ]
    },
    {
      "cell_type": "code",
      "execution_count": null,
      "id": "2d58ac49",
      "metadata": {
        "id": "2d58ac49",
        "outputId": "0586d7bd-5e8c-465f-f213-b7c8aade1b68"
      },
      "outputs": [
        {
          "data": {
            "text/plain": [
              "array(['5.0', '1.0', '2.0', '6.0', '4.0', '3.0', 'Unknown'], dtype=object)"
            ]
          },
          "execution_count": 192,
          "metadata": {},
          "output_type": "execute_result"
        }
      ],
      "source": [
        "df['Panic attacks?'].unique()"
      ]
    },
    {
      "cell_type": "code",
      "execution_count": null,
      "id": "5e338ee9",
      "metadata": {
        "id": "5e338ee9",
        "outputId": "38ef693b-e5f3-4b66-9e47-436429eb868c"
      },
      "outputs": [
        {
          "data": {
            "text/plain": [
              "Panic attacks?\n",
              "Unknown    237263\n",
              "5.0           454\n",
              "2.0           397\n",
              "1.0           364\n",
              "4.0            91\n",
              "3.0            84\n",
              "6.0            39\n",
              "Name: count, dtype: int64"
            ]
          },
          "execution_count": 193,
          "metadata": {},
          "output_type": "execute_result"
        }
      ],
      "source": [
        "df['Panic attacks?'].value_counts()"
      ]
    },
    {
      "cell_type": "code",
      "execution_count": null,
      "id": "120f6d7c",
      "metadata": {
        "id": "120f6d7c"
      },
      "outputs": [],
      "source": [
        "df['Panic attacks?'] = df['Panic attacks?'].replace('Unknown', 'Prefer not to disclose')"
      ]
    },
    {
      "cell_type": "code",
      "execution_count": null,
      "id": "3d9204c1",
      "metadata": {
        "id": "3d9204c1"
      },
      "outputs": [],
      "source": []
    },
    {
      "cell_type": "code",
      "execution_count": null,
      "id": "9ff86450",
      "metadata": {
        "id": "9ff86450"
      },
      "outputs": [],
      "source": []
    },
    {
      "cell_type": "code",
      "execution_count": null,
      "id": "65533b98",
      "metadata": {
        "id": "65533b98"
      },
      "outputs": [],
      "source": []
    },
    {
      "cell_type": "code",
      "execution_count": null,
      "id": "a94bf2ed",
      "metadata": {
        "id": "a94bf2ed"
      },
      "outputs": [],
      "source": []
    },
    {
      "cell_type": "markdown",
      "id": "1f230040",
      "metadata": {
        "id": "1f230040"
      },
      "source": [
        "## Hopelessness"
      ]
    },
    {
      "cell_type": "code",
      "execution_count": null,
      "id": "33a14808",
      "metadata": {
        "id": "33a14808",
        "outputId": "c3206d28-b469-4987-fd45-c96ecc9e5fd7"
      },
      "outputs": [
        {
          "data": {
            "text/plain": [
              "array(['5.0', '1.0', '2.0', '6.0', '3.0', '4.0', 'Unknown'], dtype=object)"
            ]
          },
          "execution_count": 195,
          "metadata": {},
          "output_type": "execute_result"
        }
      ],
      "source": [
        "df['Hopelessness'].unique()"
      ]
    },
    {
      "cell_type": "code",
      "execution_count": null,
      "id": "e2b7b377",
      "metadata": {
        "id": "e2b7b377",
        "outputId": "02b1f505-77ae-4ff5-9c5e-35af969ba3c6"
      },
      "outputs": [
        {
          "data": {
            "text/plain": [
              "Hopelessness\n",
              "Unknown    237263\n",
              "5.0           454\n",
              "1.0           384\n",
              "2.0           377\n",
              "3.0            91\n",
              "4.0            84\n",
              "6.0            39\n",
              "Name: count, dtype: int64"
            ]
          },
          "execution_count": 197,
          "metadata": {},
          "output_type": "execute_result"
        }
      ],
      "source": [
        "df['Hopelessness'].value_counts()"
      ]
    },
    {
      "cell_type": "code",
      "execution_count": null,
      "id": "b65127f9",
      "metadata": {
        "id": "b65127f9"
      },
      "outputs": [],
      "source": [
        "df['Hopelessness'] = df['Hopelessness'].replace('Unknown', 'Prefer not to disclose')"
      ]
    },
    {
      "cell_type": "code",
      "execution_count": null,
      "id": "439300c5",
      "metadata": {
        "id": "439300c5"
      },
      "outputs": [],
      "source": []
    },
    {
      "cell_type": "code",
      "execution_count": null,
      "id": "91c002f8",
      "metadata": {
        "id": "91c002f8"
      },
      "outputs": [],
      "source": []
    },
    {
      "cell_type": "code",
      "execution_count": null,
      "id": "2ad4643c",
      "metadata": {
        "id": "2ad4643c"
      },
      "outputs": [],
      "source": []
    },
    {
      "cell_type": "code",
      "execution_count": null,
      "id": "3b71877d",
      "metadata": {
        "id": "3b71877d"
      },
      "outputs": [],
      "source": []
    },
    {
      "cell_type": "markdown",
      "id": "2fc5a6e7",
      "metadata": {
        "id": "2fc5a6e7"
      },
      "source": [
        "## Depression state"
      ]
    },
    {
      "cell_type": "code",
      "execution_count": null,
      "id": "9eff95bc",
      "metadata": {
        "id": "9eff95bc",
        "outputId": "3e33540e-b0f3-415b-ece6-29fbb389f99b"
      },
      "outputs": [
        {
          "data": {
            "text/plain": [
              "Depression State\n",
              "Unknown             237263\n",
              "No depression          412\n",
              "Mild                   319\n",
              "Moderate               303\n",
              "Severe                 297\n",
              "\\tNo depression         30\n",
              "\\tModerate              22\n",
              "\\tMild                  22\n",
              "\\tSevere                20\n",
              "2\\tNo depression         2\n",
              "5\\tNo depression         2\n",
              "Name: count, dtype: int64"
            ]
          },
          "execution_count": 199,
          "metadata": {},
          "output_type": "execute_result"
        }
      ],
      "source": [
        "df['Depression State'].value_counts()"
      ]
    },
    {
      "cell_type": "code",
      "execution_count": null,
      "id": "b06c3615",
      "metadata": {
        "id": "b06c3615",
        "outputId": "4b62d5a5-ffc3-4071-8219-cbdc93e636b2"
      },
      "outputs": [
        {
          "name": "stdout",
          "output_type": "stream",
          "text": [
            "['Mild' 'Moderate' 'Severe' 'No depression' 'prefer not to disclose']\n",
            "Depression State\n",
            "prefer not to disclose    237263\n",
            "No depression                446\n",
            "Mild                         341\n",
            "Moderate                     325\n",
            "Severe                       317\n",
            "Name: count, dtype: int64\n"
          ]
        }
      ],
      "source": [
        "consolidation_map = {\n",
        "    'Unknown': 'prefer not to disclose',\n",
        "    'No depression': 'No depression',\n",
        "    '\\tNo depression': 'No depression',\n",
        "    '2\\tNo depression': 'No depression',\n",
        "    '5\\tNo depression': 'No depression',\n",
        "    'Mild': 'Mild',\n",
        "    '\\tMild': 'Mild',\n",
        "    'Moderate': 'Moderate',\n",
        "    '\\tModerate': 'Moderate',\n",
        "    'Severe': 'Severe',\n",
        "    '\\tSevere': 'Severe'\n",
        "}\n",
        "\n",
        "# Clean and map the values\n",
        "df['Depression State'] = df['Depression State'].str.strip().replace(consolidation_map)\n",
        "\n",
        "# Check the result\n",
        "print(df['Depression State'].unique())\n",
        "print(df['Depression State'].value_counts())"
      ]
    },
    {
      "cell_type": "code",
      "execution_count": null,
      "id": "bc976d63",
      "metadata": {
        "id": "bc976d63"
      },
      "outputs": [],
      "source": []
    },
    {
      "cell_type": "code",
      "execution_count": null,
      "id": "86ebbe8c",
      "metadata": {
        "id": "86ebbe8c"
      },
      "outputs": [],
      "source": []
    },
    {
      "cell_type": "code",
      "execution_count": null,
      "id": "5de0d4cd",
      "metadata": {
        "id": "5de0d4cd"
      },
      "outputs": [],
      "source": []
    },
    {
      "cell_type": "markdown",
      "id": "cc0894d6",
      "metadata": {
        "id": "cc0894d6"
      },
      "source": [
        "## Social weakness"
      ]
    },
    {
      "cell_type": "code",
      "execution_count": null,
      "id": "c16d6f7c",
      "metadata": {
        "id": "c16d6f7c",
        "outputId": "5a04be29-8e5a-4ed3-fe7c-a9fdec1c55ba"
      },
      "outputs": [
        {
          "data": {
            "text/plain": [
              "Social_Weakness\n",
              "Unknown    236695\n",
              "Maybe         689\n",
              "No            679\n",
              "Yes           629\n",
              "Name: count, dtype: int64"
            ]
          },
          "execution_count": 202,
          "metadata": {},
          "output_type": "execute_result"
        }
      ],
      "source": [
        "df['Social_Weakness'].value_counts()"
      ]
    },
    {
      "cell_type": "code",
      "execution_count": null,
      "id": "f96a37e4",
      "metadata": {
        "id": "f96a37e4"
      },
      "outputs": [],
      "source": [
        "df['Social_Weakness'] = df['Social_Weakness'].replace('Unknown', 'Prefer not to disclose')"
      ]
    },
    {
      "cell_type": "code",
      "execution_count": null,
      "id": "0a6de29d",
      "metadata": {
        "id": "0a6de29d",
        "outputId": "9c83a8d0-7fa4-468c-b1c2-90cfda6e1b96"
      },
      "outputs": [
        {
          "data": {
            "text/plain": [
              "Social_Weakness\n",
              "Prefer not to disclose    236695\n",
              "Maybe                        689\n",
              "No                           679\n",
              "Yes                          629\n",
              "Name: count, dtype: int64"
            ]
          },
          "execution_count": 204,
          "metadata": {},
          "output_type": "execute_result"
        }
      ],
      "source": [
        "df['Social_Weakness'].value_counts()"
      ]
    },
    {
      "cell_type": "code",
      "execution_count": null,
      "id": "5b600492",
      "metadata": {
        "id": "5b600492"
      },
      "outputs": [],
      "source": []
    },
    {
      "cell_type": "code",
      "execution_count": null,
      "id": "75f2481f",
      "metadata": {
        "id": "75f2481f"
      },
      "outputs": [],
      "source": []
    },
    {
      "cell_type": "markdown",
      "id": "4790385c",
      "metadata": {
        "id": "4790385c"
      },
      "source": [
        "## save it to new dataset"
      ]
    },
    {
      "cell_type": "code",
      "execution_count": null,
      "id": "b5488951",
      "metadata": {
        "id": "b5488951"
      },
      "outputs": [],
      "source": [
        "# Save the DataFrame to a new CSV file\n",
        "df.to_csv('preprocessed_dataset.csv', index=False)"
      ]
    },
    {
      "cell_type": "code",
      "execution_count": null,
      "id": "2eac4fe9",
      "metadata": {
        "id": "2eac4fe9"
      },
      "outputs": [],
      "source": []
    }
  ],
  "metadata": {
    "kernelspec": {
      "display_name": "Python 3 (ipykernel)",
      "language": "python",
      "name": "python3"
    },
    "language_info": {
      "codemirror_mode": {
        "name": "ipython",
        "version": 3
      },
      "file_extension": ".py",
      "mimetype": "text/x-python",
      "name": "python",
      "nbconvert_exporter": "python",
      "pygments_lexer": "ipython3",
      "version": "3.11.5"
    },
    "colab": {
      "provenance": []
    }
  },
  "nbformat": 4,
  "nbformat_minor": 5
}